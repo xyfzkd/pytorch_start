{
  "nbformat": 4,
  "nbformat_minor": 0,
  "metadata": {
    "colab": {
      "name": "FastPhotoStyle - NVIDIA.ipynb",
      "version": "0.3.2",
      "provenance": [],
      "toc_visible": true,
      "include_colab_link": true
    },
    "kernelspec": {
      "name": "python2",
      "display_name": "Python 2"
    },
    "accelerator": "GPU"
  },
  "cells": [
    {
      "cell_type": "markdown",
      "metadata": {
        "id": "view-in-github",
        "colab_type": "text"
      },
      "source": [
        "<a href=\"https://colab.research.google.com/github/xyfzkd/pytorch_start/blob/master/jupyter/FastPhotoStyle_NVIDIA.ipynb\" target=\"_parent\"><img src=\"https://colab.research.google.com/assets/colab-badge.svg\" alt=\"Open In Colab\"/></a>"
      ]
    },
    {
      "cell_type": "markdown",
      "metadata": {
        "id": "TY9LSAfZ8zJx",
        "colab_type": "text"
      },
      "source": [
        "# FastPhotoStyle\n",
        "This shows how to run the FastPhotoStyle code on the Google Colab platform. Please see the author's repository [here](https://github.com/NVIDIA/FastPhotoStyle). I take no credit in the original work, merely hacking away to get it to run on here. \n",
        "\n",
        "Note: This is still a work in progress, there are artifacts of previous attempts still within this document. I am trying to get a fresh instance so that it can be fully tested, but for the moment I thought it would be beneficial to see my steps.\n",
        "\n",
        "Any comments/problems please put [here](https://github.com/NVIDIA/FastPhotoStyle/issues/22)."
      ]
    },
    {
      "cell_type": "markdown",
      "metadata": {
        "id": "6Zqds1qh57Pi",
        "colab_type": "text"
      },
      "source": [
        "## Dependencies"
      ]
    },
    {
      "cell_type": "markdown",
      "metadata": {
        "id": "leCSel2Z8NmP",
        "colab_type": "text"
      },
      "source": [
        "cupy is the difficult one to get working here, it doesn't seem to be able to find a default CUDA install on the Colab instances. In order to solve this, I installed it myself. Please note that there are some downloads required and this code can't be run without them, the downloads require you to login into NVIDIA's website hence I haven't scripted it. "
      ]
    },
    {
      "cell_type": "markdown",
      "metadata": {
        "id": "Fenumrtg6Azi",
        "colab_type": "text"
      },
      "source": [
        "### CUDA\n",
        "Required for cupy."
      ]
    },
    {
      "cell_type": "code",
      "metadata": {
        "id": "oq1OyRRAlh22",
        "colab_type": "code",
        "outputId": "0687b673-ed60-432c-b022-cb7c05afd4e7",
        "colab": {
          "base_uri": "https://localhost:8080/",
          "height": 309
        }
      },
      "source": [
        "!wget https://developer.nvidia.com/compute/cuda/8.0/Prod2/local_installers/cuda-repo-ubuntu1604-8-0-local-ga2_8.0.61-1_amd64-deb"
      ],
      "execution_count": 29,
      "outputs": [
        {
          "output_type": "stream",
          "text": [
            "--2019-05-06 08:31:59--  https://developer.nvidia.com/compute/cuda/8.0/Prod2/local_installers/cuda-repo-ubuntu1604-8-0-local-ga2_8.0.61-1_amd64-deb\n",
            "Resolving developer.nvidia.com (developer.nvidia.com)... 192.229.182.215\n",
            "Connecting to developer.nvidia.com (developer.nvidia.com)|192.229.182.215|:443... connected.\n",
            "HTTP request sent, awaiting response... 302 Found\n",
            "Location: https://developer.download.nvidia.com/compute/cuda/8.0/secure/Prod2/local_installers/cuda-repo-ubuntu1604-8-0-local-ga2_8.0.61-1_amd64.deb?UOVA5cmLzauuoGY7TxrIbeq6xAjySuxygGoHb9PoQ4JgFQpz7PYvv02h-shTKkfxSBySfNu4N5p7Y2mr9YQ8YAd5Dpeeezrl7iJoaELns9cTo5ze1vF3KhmfnXl3ur9NSq86eN3CeBhrAkakvo_F8zjNxiTFITpKZQSInP8SrxMWcLAtK--HEfR2xUOttWUtqyEpOUQYdp46B135KhblyZcEqg [following]\n",
            "--2019-05-06 08:31:59--  https://developer.download.nvidia.com/compute/cuda/8.0/secure/Prod2/local_installers/cuda-repo-ubuntu1604-8-0-local-ga2_8.0.61-1_amd64.deb?UOVA5cmLzauuoGY7TxrIbeq6xAjySuxygGoHb9PoQ4JgFQpz7PYvv02h-shTKkfxSBySfNu4N5p7Y2mr9YQ8YAd5Dpeeezrl7iJoaELns9cTo5ze1vF3KhmfnXl3ur9NSq86eN3CeBhrAkakvo_F8zjNxiTFITpKZQSInP8SrxMWcLAtK--HEfR2xUOttWUtqyEpOUQYdp46B135KhblyZcEqg\n",
            "Resolving developer.download.nvidia.com (developer.download.nvidia.com)... 192.229.221.58, 2606:2800:233:ef6:15dd:1ece:1d50:1e1\n",
            "Connecting to developer.download.nvidia.com (developer.download.nvidia.com)|192.229.221.58|:443... connected.\n",
            "HTTP request sent, awaiting response... 200 OK\n",
            "Length: 1913589814 (1.8G) [application/x-deb]\n",
            "Saving to: ‘cuda-repo-ubuntu1604-8-0-local-ga2_8.0.61-1_amd64-deb.1’\n",
            "\n",
            "cuda-repo-ubuntu160 100%[===================>]   1.78G   149MB/s    in 12s     \n",
            "\n",
            "2019-05-06 08:32:11 (152 MB/s) - ‘cuda-repo-ubuntu1604-8-0-local-ga2_8.0.61-1_amd64-deb.1’ saved [1913589814/1913589814]\n",
            "\n"
          ],
          "name": "stdout"
        }
      ]
    },
    {
      "cell_type": "code",
      "metadata": {
        "id": "M78V6GaZnImd",
        "colab_type": "code",
        "outputId": "1e171304-eae9-49b6-e365-9441f3926576",
        "colab": {
          "base_uri": "https://localhost:8080/",
          "height": 207
        }
      },
      "source": [
        "!dpkg -i cuda-repo-ubuntu1604-8-0-local-ga2_8.0.61-1_amd64-deb"
      ],
      "execution_count": 30,
      "outputs": [
        {
          "output_type": "stream",
          "text": [
            "(Reading database ... \r(Reading database ... 5%\r(Reading database ... 10%\r(Reading database ... 15%\r(Reading database ... 20%\r(Reading database ... 25%\r(Reading database ... 30%\r(Reading database ... 35%\r(Reading database ... 40%\r(Reading database ... 45%\r(Reading database ... 50%\r(Reading database ... 55%\r(Reading database ... 60%\r(Reading database ... 65%\r(Reading database ... 70%\r(Reading database ... 75%\r(Reading database ... 80%\r(Reading database ... 85%\r(Reading database ... 90%\r(Reading database ... 95%\r(Reading database ... 100%\r(Reading database ... 140929 files and directories currently installed.)\n",
            "Preparing to unpack cuda-repo-ubuntu1604-8-0-local-ga2_8.0.61-1_amd64-deb ...\n",
            "Unpacking cuda-repo-ubuntu1604-8-0-local-ga2 (8.0.61-1) over (8.0.61-1) ...\n",
            "Setting up cuda-repo-ubuntu1604-8-0-local-ga2 (8.0.61-1) ...\n",
            "Warning: The postinst maintainerscript of the package cuda-repo-ubuntu1604-8-0-local-ga2\n",
            "Warning: seems to use apt-key (provided by apt) without depending on gnupg or gnupg2.\n",
            "Warning: This will BREAK in the future and should be fixed by the package maintainer(s).\n",
            "Note: Check first if apt-key functionality is needed at all - it probably isn't!\n",
            "Warning: apt-key should not be used in scripts (called from postinst maintainerscript of the package cuda-repo-ubuntu1604-8-0-local-ga2)\n",
            "OK\n"
          ],
          "name": "stdout"
        }
      ]
    },
    {
      "cell_type": "code",
      "metadata": {
        "id": "U2ZwhNnaoEsx",
        "colab_type": "code",
        "outputId": "e2992e29-8aa1-4a59-9db0-9f70d651881f",
        "colab": {
          "base_uri": "https://localhost:8080/",
          "height": 34
        }
      },
      "source": [
        "!apt-key add /var/cuda-repo-8-0-local-ga2/7fa2af80.pub"
      ],
      "execution_count": 31,
      "outputs": [
        {
          "output_type": "stream",
          "text": [
            "OK\n"
          ],
          "name": "stdout"
        }
      ]
    },
    {
      "cell_type": "code",
      "metadata": {
        "id": "0UdWwDS2opu8",
        "colab_type": "code",
        "outputId": "8da42e35-3b76-43b7-b496-269496434dd5",
        "colab": {
          "base_uri": "https://localhost:8080/",
          "height": 377
        }
      },
      "source": [
        "!apt update"
      ],
      "execution_count": 32,
      "outputs": [
        {
          "output_type": "stream",
          "text": [
            "\u001b[33m\r0% [Working]\u001b[0m\r            \rGet:1 file:/var/cuda-repo-8-0-local-ga2  InRelease\n",
            "\r            \rIgn:1 file:/var/cuda-repo-8-0-local-ga2  InRelease\n",
            "\u001b[33m\r0% [Connecting to archive.ubuntu.com] [Connecting to security.ubuntu.com] [Conn\u001b[0m\r                                                                               \rGet:2 file:/var/cuda-repo-8-0-local-ga2  Release [574 B]\n",
            "\u001b[33m\r0% [Connecting to archive.ubuntu.com] [Connecting to security.ubuntu.com] [Conn\u001b[0m\r                                                                               \rGet:2 file:/var/cuda-repo-8-0-local-ga2  Release [574 B]\n",
            "\u001b[33m\r0% [2 Release 0 B/574 B 0%] [Connecting to archive.ubuntu.com] [Connecting to s\u001b[0m\u001b[33m\r0% [Connecting to archive.ubuntu.com] [Connecting to security.ubuntu.com] [Conn\u001b[0m\u001b[33m\r0% [Release.gpg gpgv 574 B] [Connecting to archive.ubuntu.com] [Connecting to s\u001b[0m\r                                                                               \rHit:3 http://ppa.launchpad.net/graphics-drivers/ppa/ubuntu bionic InRelease\n",
            "\u001b[33m\r0% [Release.gpg gpgv 574 B] [Waiting for headers] [Connecting to security.ubunt\u001b[0m\r                                                                               \rHit:4 http://archive.ubuntu.com/ubuntu bionic InRelease\n",
            "\u001b[33m\r0% [Release.gpg gpgv 574 B] [Waiting for headers] [Connecting to security.ubunt\u001b[0m\r                                                                               \rGet:5 http://archive.ubuntu.com/ubuntu bionic-updates InRelease [88.7 kB]\n",
            "\u001b[33m\r0% [Release.gpg gpgv 574 B] [5 InRelease 2,602 B/88.7 kB 3%] [Connecting to sec\u001b[0m\r                                                                               \rHit:6 http://ppa.launchpad.net/marutter/c2d4u3.5/ubuntu bionic InRelease\n",
            "\u001b[33m\r0% [Release.gpg gpgv 574 B] [5 InRelease 15.6 kB/88.7 kB 18%] [Connecting to se\u001b[0m\u001b[33m\r0% [Release.gpg gpgv 574 B] [Waiting for headers] [Connecting to security.ubunt\u001b[0m\r                                                                               \rGet:7 http://archive.ubuntu.com/ubuntu bionic-backports InRelease [74.6 kB]\n",
            "\u001b[33m\r0% [Release.gpg gpgv 574 B] [7 InRelease 20.0 kB/74.6 kB 27%] [Connecting to se\u001b[0m\u001b[33m\r0% [Release.gpg gpgv 574 B] [Connecting to security.ubuntu.com (91.189.91.23)] \u001b[0m\r                                                                               \rHit:8 https://cloud.r-project.org/bin/linux/ubuntu bionic-cran35/ InRelease\n",
            "\u001b[33m\r                                                                               \r0% [Release.gpg gpgv 574 B] [Waiting for headers] [Waiting for headers]\u001b[0m\u001b[33m\r                                                                       \r0% [Waiting for headers] [Waiting for headers]\u001b[0m\u001b[33m\r0% [3 InRelease gpgv 21.3 kB] [Waiting for headers] [Waiting for headers]\u001b[0m\r                                                                         \rGet:10 http://security.ubuntu.com/ubuntu bionic-security InRelease [88.7 kB]\n",
            "\u001b[33m\r0% [3 InRelease gpgv 21.3 kB] [10 InRelease 2,586 B/88.7 kB 3%] [Waiting for he\u001b[0m\r                                                                               \rIgn:11 https://developer.download.nvidia.com/compute/cuda/repos/ubuntu1804/x86_64  InRelease\n",
            "\u001b[33m\r0% [3 InRelease gpgv 21.3 kB] [10 InRelease 14.2 kB/88.7 kB 16%] [Waiting for h\u001b[0m\u001b[33m\r                                                                               \r0% [10 InRelease 43.1 kB/88.7 kB 49%] [Waiting for headers]\u001b[0m\u001b[33m\r0% [4 InRelease gpgv 242 kB] [10 InRelease 43.1 kB/88.7 kB 49%] [Waiting for he\u001b[0m\u001b[33m\r                                                                               \r0% [4 InRelease gpgv 242 kB] [Waiting for headers]\u001b[0m\u001b[33m\r                                                  \r0% [Waiting for headers]\u001b[0m\u001b[33m\r0% [6 InRelease gpgv 15.4 kB] [Waiting for headers]\u001b[0m\u001b[33m\r                                                   \r0% [Waiting for headers]\u001b[0m\u001b[33m\r0% [5 InRelease gpgv 88.7 kB] [Waiting for headers]\u001b[0m\u001b[33m\r                                                   \r0% [Waiting for headers]\u001b[0m\u001b[33m\r0% [7 InRelease gpgv 74.6 kB] [Waiting for headers]\u001b[0m\r                                                   \rIgn:12 https://developer.download.nvidia.com/compute/machine-learning/repos/ubuntu1804/x86_64  InRelease\n",
            "\u001b[33m\r                                                   \r0% [7 InRelease gpgv 74.6 kB]\u001b[0m\r                             \rHit:13 https://developer.download.nvidia.com/compute/cuda/repos/ubuntu1804/x86_64  Release\n",
            "Hit:14 https://developer.download.nvidia.com/compute/machine-learning/repos/ubuntu1804/x86_64  Release\n",
            "Fetched 252 kB in 2s (145 kB/s)\n",
            "Reading package lists... Done\n",
            "Building dependency tree       \n",
            "Reading state information... Done\n",
            "59 packages can be upgraded. Run 'apt list --upgradable' to see them.\n"
          ],
          "name": "stdout"
        }
      ]
    },
    {
      "cell_type": "code",
      "metadata": {
        "id": "ILE7Q1xXosK8",
        "colab_type": "code",
        "outputId": "db5e7a96-bc8f-40f6-9310-ff59e15869d7",
        "colab": {
          "base_uri": "https://localhost:8080/",
          "height": 153
        }
      },
      "source": [
        "!apt install cuda-8-0 -y"
      ],
      "execution_count": 33,
      "outputs": [
        {
          "output_type": "stream",
          "text": [
            "\rReading package lists... 0%\r\rReading package lists... 0%\r\rReading package lists... 0%\r\rReading package lists... 7%\r\rReading package lists... 7%\r\rReading package lists... 8%\r\rReading package lists... 8%\r\rReading package lists... 73%\r\rReading package lists... 73%\r\rReading package lists... 74%\r\rReading package lists... 74%\r\rReading package lists... 79%\r\rReading package lists... 79%\r\rReading package lists... 79%\r\rReading package lists... 79%\r\rReading package lists... 88%\r\rReading package lists... 88%\r\rReading package lists... 88%\r\rReading package lists... 88%\r\rReading package lists... 88%\r\rReading package lists... 88%\r\rReading package lists... 88%\r\rReading package lists... 88%\r\rReading package lists... 89%\r\rReading package lists... 91%\r\rReading package lists... 91%\r\rReading package lists... 91%\r\rReading package lists... 91%\r\rReading package lists... 93%\r\rReading package lists... 93%\r\rReading package lists... 93%\r\rReading package lists... 93%\r\rReading package lists... 94%\r\rReading package lists... 94%\r\rReading package lists... 94%\r\rReading package lists... 94%\r\rReading package lists... 94%\r\rReading package lists... 94%\r\rReading package lists... 94%\r\rReading package lists... 94%\r\rReading package lists... 98%\r\rReading package lists... 98%\r\rReading package lists... 98%\r\rReading package lists... 98%\r\rReading package lists... Done\r\n",
            "\rBuilding dependency tree... 0%\r\rBuilding dependency tree... 0%\r\rBuilding dependency tree... 50%\r\rBuilding dependency tree... 50%\r\rBuilding dependency tree       \r\n",
            "\rReading state information... 0%\r\rReading state information... 0%\r\rReading state information... Done\r\n",
            "cuda-8-0 is already the newest version (8.0.61-1).\n",
            "The following package was automatically installed and is no longer required:\n",
            "  libnvidia-common-410\n",
            "Use 'apt autoremove' to remove it.\n",
            "0 upgraded, 0 newly installed, 0 to remove and 59 not upgraded.\n"
          ],
          "name": "stdout"
        }
      ]
    },
    {
      "cell_type": "code",
      "metadata": {
        "id": "ZvptPv3iqEJ5",
        "colab_type": "code",
        "colab": {}
      },
      "source": [
        "import os\n",
        "os.environ['PATH'] += ':/usr/local/cuda/bin'"
      ],
      "execution_count": 0,
      "outputs": []
    },
    {
      "cell_type": "code",
      "metadata": {
        "id": "jYrfCmdPqxfv",
        "colab_type": "code",
        "outputId": "71aa8e6a-5997-4ad0-f6a0-0980a63d3370",
        "colab": {
          "base_uri": "https://localhost:8080/",
          "height": 170
        }
      },
      "source": [
        "!apt install gcc-5 g++-5 -y"
      ],
      "execution_count": 35,
      "outputs": [
        {
          "output_type": "stream",
          "text": [
            "\rReading package lists... 0%\r\rReading package lists... 0%\r\rReading package lists... 0%\r\rReading package lists... 7%\r\rReading package lists... 7%\r\rReading package lists... 8%\r\rReading package lists... 8%\r\rReading package lists... 73%\r\rReading package lists... 73%\r\rReading package lists... 74%\r\rReading package lists... 74%\r\rReading package lists... 79%\r\rReading package lists... 79%\r\rReading package lists... 79%\r\rReading package lists... 79%\r\rReading package lists... 88%\r\rReading package lists... 88%\r\rReading package lists... 88%\r\rReading package lists... 88%\r\rReading package lists... 88%\r\rReading package lists... 88%\r\rReading package lists... 88%\r\rReading package lists... 88%\r\rReading package lists... 91%\r\rReading package lists... 91%\r\rReading package lists... 91%\r\rReading package lists... 91%\r\rReading package lists... 92%\r\rReading package lists... 93%\r\rReading package lists... 93%\r\rReading package lists... 93%\r\rReading package lists... 93%\r\rReading package lists... 94%\r\rReading package lists... 94%\r\rReading package lists... 94%\r\rReading package lists... 94%\r\rReading package lists... 94%\r\rReading package lists... 94%\r\rReading package lists... 94%\r\rReading package lists... 94%\r\rReading package lists... 98%\r\rReading package lists... 98%\r\rReading package lists... 98%\r\rReading package lists... 98%\r\rReading package lists... Done\r\n",
            "\rBuilding dependency tree... 0%\r\rBuilding dependency tree... 0%\r\rBuilding dependency tree... 50%\r\rBuilding dependency tree... 50%\r\rBuilding dependency tree       \r\n",
            "\rReading state information... 0%\r\rReading state information... 0%\r\rReading state information... Done\r\n",
            "g++-5 is already the newest version (5.5.0-12ubuntu1).\n",
            "gcc-5 is already the newest version (5.5.0-12ubuntu1).\n",
            "The following package was automatically installed and is no longer required:\n",
            "  libnvidia-common-410\n",
            "Use 'apt autoremove' to remove it.\n",
            "0 upgraded, 0 newly installed, 0 to remove and 59 not upgraded.\n"
          ],
          "name": "stdout"
        }
      ]
    },
    {
      "cell_type": "code",
      "metadata": {
        "id": "sP6OS5uJq01S",
        "colab_type": "code",
        "outputId": "5aa18cdf-a1df-41ca-9e74-813c6bf772a5",
        "colab": {
          "base_uri": "https://localhost:8080/",
          "height": 51
        }
      },
      "source": [
        "!ln -s /usr/bin/gcc-5 /usr/local/cuda/bin/gcc \n",
        "!ln -s /usr/bin/g++-5 /usr/local/cuda/bin/g++"
      ],
      "execution_count": 36,
      "outputs": [
        {
          "output_type": "stream",
          "text": [
            "ln: failed to create symbolic link '/usr/local/cuda/bin/gcc': File exists\n",
            "ln: failed to create symbolic link '/usr/local/cuda/bin/g++': File exists\n"
          ],
          "name": "stdout"
        }
      ]
    },
    {
      "cell_type": "code",
      "metadata": {
        "id": "bOHa-Sj8ywxn",
        "colab_type": "code",
        "colab": {}
      },
      "source": [
        "import os\n",
        "os.environ['PATH'] += ':/usr/local/cuda/bin'"
      ],
      "execution_count": 0,
      "outputs": []
    },
    {
      "cell_type": "markdown",
      "metadata": {
        "id": "Qx5D6FZ7s5l7",
        "colab_type": "text"
      },
      "source": [
        "### CUDNN\n",
        "cupy also requires CUDNN. Get deb file from [here](https://developer.nvidia.com/cudnn). I used cuDNN v7.0.5 (Dec 5, 2017), for CUDA 8.0 which had filename cudnn-8.0-linux-x64-v7.tgz"
      ]
    },
    {
      "cell_type": "code",
      "metadata": {
        "id": "69mJmUflX9ae",
        "colab_type": "code",
        "colab": {
          "base_uri": "https://localhost:8080/",
          "height": 139
        },
        "outputId": "89762e11-c684-44b1-9ba7-35786f337f46"
      },
      "source": [
        "!wget https://developer.nvidia.com/compute/machine-learning/cudnn/secure/v7.0.5/prod/8.0_20171129/cudnn-8.0-linux-x64-v7"
      ],
      "execution_count": 41,
      "outputs": [
        {
          "output_type": "stream",
          "text": [
            "--2019-05-06 09:02:19--  https://developer.nvidia.com/compute/machine-learning/cudnn/secure/v7.0.5/prod/8.0_20171129/cudnn-8.0-linux-x64-v7\n",
            "Resolving developer.nvidia.com (developer.nvidia.com)... 192.229.182.215\n",
            "Connecting to developer.nvidia.com (developer.nvidia.com)|192.229.182.215|:443... connected.\n",
            "HTTP request sent, awaiting response... 403 Forbidden\n",
            "2019-05-06 09:02:19 ERROR 403: Forbidden.\n",
            "\n"
          ],
          "name": "stdout"
        }
      ]
    },
    {
      "cell_type": "code",
      "metadata": {
        "id": "TUkwkgIas_yF",
        "colab_type": "code",
        "outputId": "919c8007-fbe8-4b6c-f656-5d478c83500e",
        "colab": {
          "base_uri": "https://localhost:8080/",
          "height": 85
        }
      },
      "source": [
        "!tar -xzvf cudnn-8.0-linux-x64-v7.tgz"
      ],
      "execution_count": 38,
      "outputs": [
        {
          "output_type": "stream",
          "text": [
            "tar (child): cudnn-8.0-linux-x64-v7.tgz: Cannot open: No such file or directory\n",
            "tar (child): Error is not recoverable: exiting now\n",
            "tar: Child returned status 2\n",
            "tar: Error is not recoverable: exiting now\n"
          ],
          "name": "stdout"
        }
      ]
    },
    {
      "cell_type": "code",
      "metadata": {
        "id": "ZybEWUzptB7u",
        "colab_type": "code",
        "colab": {
          "base_uri": "https://localhost:8080/",
          "height": 68
        },
        "outputId": "01141cd7-330c-4af4-97fa-cf38e784df90"
      },
      "source": [
        "!cp cuda/include/cudnn.h /usr/local/cuda/include\n",
        "!cp cuda/lib64/libcudnn* /usr/local/cuda/lib64\n",
        "!chmod a+r /usr/local/cuda/include/cudnn.h"
      ],
      "execution_count": 39,
      "outputs": [
        {
          "output_type": "stream",
          "text": [
            "cp: cannot stat 'cuda/include/cudnn.h': No such file or directory\n",
            "cp: cannot stat 'cuda/lib64/libcudnn*': No such file or directory\n",
            "chmod: cannot access '/usr/local/cuda/include/cudnn.h': No such file or directory\n"
          ],
          "name": "stdout"
        }
      ]
    },
    {
      "cell_type": "markdown",
      "metadata": {
        "id": "AdpNirhQtXt2",
        "colab_type": "text"
      },
      "source": [
        "### NCCL"
      ]
    },
    {
      "cell_type": "markdown",
      "metadata": {
        "id": "Ke5b8Ccy6SdH",
        "colab_type": "text"
      },
      "source": [
        "Required by cupy. Get deb file from [here](https://developer.nvidia.com/nccl). I used NCCL v2.1.4, for CUDA 8.0, Jan 18, 2018 which had filename nccl-repo-ubuntu1604-2.1.4-ga-cuda8.0_1-1_amd64.deb."
      ]
    },
    {
      "cell_type": "code",
      "metadata": {
        "id": "FmVpKrh6ZNoZ",
        "colab_type": "code",
        "colab": {
          "base_uri": "https://localhost:8080/",
          "height": 139
        },
        "outputId": "5dd75249-7898-4c67-bf29-1e33bacb29cd"
      },
      "source": [
        "!wget https://developer.nvidia.com/compute/machine-learning/nccl/secure/v2.4/prod/nccl-repo-ubuntu1404-2.4.2-ga-cuda10.1_1-1_amd64.deb"
      ],
      "execution_count": 42,
      "outputs": [
        {
          "output_type": "stream",
          "text": [
            "--2019-05-06 09:06:29--  https://developer.nvidia.com/compute/machine-learning/nccl/secure/v2.4/prod/nccl-repo-ubuntu1404-2.4.2-ga-cuda10.1_1-1_amd64.deb\n",
            "Resolving developer.nvidia.com (developer.nvidia.com)... 192.229.182.215\n",
            "Connecting to developer.nvidia.com (developer.nvidia.com)|192.229.182.215|:443... connected.\n",
            "HTTP request sent, awaiting response... 403 Forbidden\n",
            "2019-05-06 09:06:29 ERROR 403: Forbidden.\n",
            "\n"
          ],
          "name": "stdout"
        }
      ]
    },
    {
      "cell_type": "code",
      "metadata": {
        "id": "ELNzN_jztZmd",
        "colab_type": "code",
        "outputId": "bf23d8d0-5526-4eeb-8900-564d938ad978",
        "colab": {
          "base_uri": "https://localhost:8080/",
          "height": 54
        }
      },
      "source": [
        "!dpkg -i nccl-repo-ubuntu1604-2.1.4-ga-cuda8.0_1-1_amd64.deb"
      ],
      "execution_count": 12,
      "outputs": [
        {
          "output_type": "stream",
          "text": [
            "\u001b[1mdpkg:\u001b[0m \u001b[1;31merror:\u001b[0m cannot access archive 'nccl-repo-ubuntu1604-2.1.4-ga-cuda8.0_1-1_amd64.deb': No such file or directory\n"
          ],
          "name": "stdout"
        }
      ]
    },
    {
      "cell_type": "code",
      "metadata": {
        "id": "cCQKP-P7wr3I",
        "colab_type": "code",
        "outputId": "eedee91b-2bd6-4cc5-f8fd-f2ea3ba56004",
        "colab": {
          "base_uri": "https://localhost:8080/",
          "height": 360
        }
      },
      "source": [
        "!sudo apt update"
      ],
      "execution_count": 13,
      "outputs": [
        {
          "output_type": "stream",
          "text": [
            "\u001b[33m\r0% [Working]\u001b[0m\r            \rGet:1 file:/var/cuda-repo-8-0-local-ga2  InRelease\n",
            "\r            \rIgn:1 file:/var/cuda-repo-8-0-local-ga2  InRelease\n",
            "\u001b[33m\r0% [Connecting to archive.ubuntu.com] [Connecting to cloud.r-project.org] [Conn\u001b[0m\r                                                                               \rGet:2 file:/var/cuda-repo-8-0-local-ga2  Release [574 B]\n",
            "\u001b[33m\r0% [Connecting to archive.ubuntu.com] [Connecting to cloud.r-project.org] [Conn\u001b[0m\r                                                                               \rGet:2 file:/var/cuda-repo-8-0-local-ga2  Release [574 B]\n",
            "\u001b[33m\r0% [2 Release 0 B/574 B 0%] [Connecting to archive.ubuntu.com (91.189.91.23)] [\u001b[0m\u001b[33m\r0% [Connecting to archive.ubuntu.com (91.189.91.23)] [Connecting to security.ub\u001b[0m\u001b[33m\r0% [Release.gpg gpgv 574 B] [Connecting to archive.ubuntu.com (91.189.91.23)] [\u001b[0m\r                                                                               \rHit:3 http://security.ubuntu.com/ubuntu bionic-security InRelease\n",
            "\u001b[33m\r0% [Release.gpg gpgv 574 B] [Connecting to archive.ubuntu.com (91.189.91.23)] [\u001b[0m\r                                                                               \rHit:4 http://ppa.launchpad.net/graphics-drivers/ppa/ubuntu bionic InRelease\n",
            "\u001b[33m\r0% [Release.gpg gpgv 574 B] [Connecting to archive.ubuntu.com (91.189.91.23)] [\u001b[0m\r                                                                               \rHit:5 http://ppa.launchpad.net/marutter/c2d4u3.5/ubuntu bionic InRelease\n",
            "\u001b[33m\r0% [Release.gpg gpgv 574 B] [Connecting to archive.ubuntu.com (91.189.91.23)] [\u001b[0m\r                                                                               \rHit:6 https://cloud.r-project.org/bin/linux/ubuntu bionic-cran35/ InRelease\n",
            "\u001b[33m\r0% [Release.gpg gpgv 574 B] [Connecting to archive.ubuntu.com (91.189.91.23)] [\u001b[0m\u001b[33m\r                                                                               \r0% [Waiting for headers] [Waiting for headers]\u001b[0m\u001b[33m\r0% [3 InRelease gpgv 88.7 kB] [Waiting for headers] [Waiting for headers]\u001b[0m\r                                                                         \rHit:8 http://archive.ubuntu.com/ubuntu bionic InRelease\n",
            "\u001b[33m\r0% [3 InRelease gpgv 88.7 kB] [Waiting for headers] [Waiting for headers]\u001b[0m\u001b[33m\r                                                                         \r0% [Waiting for headers] [Waiting for headers]\u001b[0m\u001b[33m\r0% [4 InRelease gpgv 21.3 kB] [Waiting for headers] [Waiting for headers]\u001b[0m\r                                                                         \rIgn:9 https://developer.download.nvidia.com/compute/cuda/repos/ubuntu1804/x86_64  InRelease\n",
            "\u001b[33m\r0% [4 InRelease gpgv 21.3 kB] [Waiting for headers] [Waiting for headers]\u001b[0m\r                                                                         \rHit:10 http://archive.ubuntu.com/ubuntu bionic-updates InRelease\n",
            "\u001b[33m\r                                                                         \r0% [4 InRelease gpgv 21.3 kB] [Waiting for headers]\u001b[0m\u001b[33m\r                                                   \r0% [Waiting for headers] [Waiting for headers]\u001b[0m\u001b[33m\r0% [5 InRelease gpgv 15.4 kB] [Waiting for headers] [Waiting for headers]\u001b[0m\r                                                                         \rHit:11 http://archive.ubuntu.com/ubuntu bionic-backports InRelease\n",
            "\u001b[33m\r                                                                         \r0% [5 InRelease gpgv 15.4 kB] [Waiting for headers]\u001b[0m\u001b[33m\r                                                   \r0% [Waiting for headers]\u001b[0m\u001b[33m\r0% [6 InRelease gpgv 3,609 B] [Waiting for headers]\u001b[0m\r                                                   \rIgn:12 https://developer.download.nvidia.com/compute/machine-learning/repos/ubuntu1804/x86_64  InRelease\n",
            "\u001b[33m\r                                                   \r0% [6 InRelease gpgv 3,609 B]\u001b[0m\r                             \rHit:13 https://developer.download.nvidia.com/compute/cuda/repos/ubuntu1804/x86_64  Release\n",
            "Hit:14 https://developer.download.nvidia.com/compute/machine-learning/repos/ubuntu1804/x86_64  Release\n",
            "Reading package lists... Done\n",
            "Building dependency tree       \n",
            "Reading state information... Done\n",
            "59 packages can be upgraded. Run 'apt list --upgradable' to see them.\n"
          ],
          "name": "stdout"
        }
      ]
    },
    {
      "cell_type": "code",
      "metadata": {
        "id": "lnndL8BQtcRz",
        "colab_type": "code",
        "outputId": "232d24a7-0d8f-49f8-e1d3-bdade0f507db",
        "colab": {
          "base_uri": "https://localhost:8080/",
          "height": 102
        }
      },
      "source": [
        "!sudo apt-get install libnccl2=2.1.4-1+cuda8.0 libnccl-dev=2.1.4-1+cuda8.0"
      ],
      "execution_count": 14,
      "outputs": [
        {
          "output_type": "stream",
          "text": [
            "\rReading package lists... 0%\r\rReading package lists... 0%\r\rReading package lists... 0%\r\rReading package lists... 7%\r\rReading package lists... 7%\r\rReading package lists... 8%\r\rReading package lists... 8%\r\rReading package lists... 73%\r\rReading package lists... 73%\r\rReading package lists... 74%\r\rReading package lists... 74%\r\rReading package lists... 79%\r\rReading package lists... 79%\r\rReading package lists... 79%\r\rReading package lists... 79%\r\rReading package lists... 87%\r\rReading package lists... 88%\r\rReading package lists... 88%\r\rReading package lists... 88%\r\rReading package lists... 88%\r\rReading package lists... 88%\r\rReading package lists... 88%\r\rReading package lists... 88%\r\rReading package lists... 88%\r\rReading package lists... 91%\r\rReading package lists... 91%\r\rReading package lists... 91%\r\rReading package lists... 91%\r\rReading package lists... 93%\r\rReading package lists... 93%\r\rReading package lists... 93%\r\rReading package lists... 93%\r\rReading package lists... 94%\r\rReading package lists... 94%\r\rReading package lists... 94%\r\rReading package lists... 94%\r\rReading package lists... 94%\r\rReading package lists... 94%\r\rReading package lists... 94%\r\rReading package lists... 94%\r\rReading package lists... 98%\r\rReading package lists... 98%\r\rReading package lists... 98%\r\rReading package lists... 98%\r\rReading package lists... Done\r\n",
            "\rBuilding dependency tree... 0%\r\rBuilding dependency tree... 0%\r\rBuilding dependency tree... 50%\r\rBuilding dependency tree... 50%\r\rBuilding dependency tree       \r\n",
            "\rReading state information... 0%\r\rReading state information... 0%\r\rReading state information... Done\r\n",
            "E: Version '2.1.4-1+cuda8.0' for 'libnccl2' was not found\n",
            "E: Version '2.1.4-1+cuda8.0' for 'libnccl-dev' was not found\n"
          ],
          "name": "stdout"
        }
      ]
    },
    {
      "cell_type": "markdown",
      "metadata": {
        "id": "YmqBULRwtf22",
        "colab_type": "text"
      },
      "source": [
        "### CUPY"
      ]
    },
    {
      "cell_type": "code",
      "metadata": {
        "id": "NKhCYdi4tgUY",
        "colab_type": "code",
        "outputId": "0fe0869c-3659-401e-fa93-f1e0440913ee",
        "colab": {
          "base_uri": "https://localhost:8080/",
          "height": 105
        }
      },
      "source": [
        "!pip install cupy "
      ],
      "execution_count": 16,
      "outputs": [
        {
          "output_type": "stream",
          "text": [
            "Requirement already satisfied: cupy in /usr/local/lib/python2.7/dist-packages (5.4.0)\n",
            "Requirement already satisfied: fastrlock>=0.3 in /usr/local/lib/python2.7/dist-packages (from cupy) (0.4)\n",
            "Requirement already satisfied: numpy>=1.9.0 in /usr/local/lib/python2.7/dist-packages (from cupy) (1.16.3)\n",
            "Requirement already satisfied: six>=1.9.0 in /usr/local/lib/python2.7/dist-packages (from cupy) (1.12.0)\n"
          ],
          "name": "stdout"
        }
      ]
    },
    {
      "cell_type": "markdown",
      "metadata": {
        "id": "JLtyWSsQtkaF",
        "colab_type": "text"
      },
      "source": [
        "### Torch"
      ]
    },
    {
      "cell_type": "code",
      "metadata": {
        "id": "07YuxnoLtkxZ",
        "colab_type": "code",
        "outputId": "f1a8ac04-a322-48f8-e1d7-a369613fb2c1",
        "colab": {
          "base_uri": "https://localhost:8080/",
          "height": 326
        }
      },
      "source": [
        "!pip install http://download.pytorch.org/whl/cu80/torch-0.3.1-cp27-cp27mu-linux_x86_64.whl \n",
        "!pip install torchvision "
      ],
      "execution_count": 17,
      "outputs": [
        {
          "output_type": "stream",
          "text": [
            "Collecting torch==0.3.1 from http://download.pytorch.org/whl/cu80/torch-0.3.1-cp27-cp27mu-linux_x86_64.whl\n",
            "\u001b[?25l  Downloading http://download.pytorch.org/whl/cu80/torch-0.3.1-cp27-cp27mu-linux_x86_64.whl (496.9MB)\n",
            "\u001b[K     |████████████████████████████████| 496.9MB 1.1MB/s \n",
            "\u001b[?25hRequirement already satisfied: numpy in /usr/local/lib/python2.7/dist-packages (from torch==0.3.1) (1.16.3)\n",
            "Requirement already satisfied: pyyaml in /usr/local/lib/python2.7/dist-packages (from torch==0.3.1) (3.13)\n",
            "Installing collected packages: torch\n",
            "  Found existing installation: torch 1.1.0\n",
            "    Uninstalling torch-1.1.0:\n",
            "      Successfully uninstalled torch-1.1.0\n",
            "Successfully installed torch-0.3.1\n",
            "Requirement already satisfied: torchvision in /usr/local/lib/python2.7/dist-packages (0.2.2.post3)\n",
            "Requirement already satisfied: six in /usr/local/lib/python2.7/dist-packages (from torchvision) (1.12.0)\n",
            "Requirement already satisfied: numpy in /usr/local/lib/python2.7/dist-packages (from torchvision) (1.16.3)\n",
            "Requirement already satisfied: torch in /usr/local/lib/python2.7/dist-packages (from torchvision) (0.3.1)\n",
            "Requirement already satisfied: pillow>=4.1.1 in /usr/local/lib/python2.7/dist-packages (from torchvision) (4.3.0)\n",
            "Requirement already satisfied: pyyaml in /usr/local/lib/python2.7/dist-packages (from torch->torchvision) (3.13)\n",
            "Requirement already satisfied: olefile in /usr/local/lib/python2.7/dist-packages (from pillow>=4.1.1->torchvision) (0.46)\n"
          ],
          "name": "stdout"
        }
      ]
    },
    {
      "cell_type": "markdown",
      "metadata": {
        "id": "etIwKAup68km",
        "colab_type": "text"
      },
      "source": [
        "### Misc"
      ]
    },
    {
      "cell_type": "code",
      "metadata": {
        "id": "-T2axB1BxImn",
        "colab_type": "code",
        "outputId": "1e4d64ad-194e-4765-e018-30e5684ecba1",
        "colab": {
          "base_uri": "https://localhost:8080/",
          "height": 156
        }
      },
      "source": [
        "!pip install scikit-umfpack"
      ],
      "execution_count": 18,
      "outputs": [
        {
          "output_type": "stream",
          "text": [
            "Collecting scikit-umfpack\n",
            "\u001b[?25l  Downloading https://files.pythonhosted.org/packages/f1/5c/0179726603f062eb5614488be7b0279a828553eccbab5cf85cbd267705d7/scikit_umfpack-0.3.2-cp27-cp27mu-manylinux1_x86_64.whl (9.5MB)\n",
            "\u001b[K     |████████████████████████████████| 9.5MB 8.9MB/s \n",
            "\u001b[?25hRequirement already satisfied: numpy>=1.15.3 in /usr/local/lib/python2.7/dist-packages (from scikit-umfpack) (1.16.3)\n",
            "Requirement already satisfied: scipy>=1.0.0rc1 in /usr/local/lib/python2.7/dist-packages (from scikit-umfpack) (1.2.1)\n",
            "Installing collected packages: scikit-umfpack\n",
            "Successfully installed scikit-umfpack-0.3.2\n"
          ],
          "name": "stdout"
        }
      ]
    },
    {
      "cell_type": "code",
      "metadata": {
        "id": "xW8FBC4ixMOt",
        "colab_type": "code",
        "outputId": "0ebafbd0-351c-4ec9-92fd-f91376bbb535",
        "colab": {
          "base_uri": "https://localhost:8080/",
          "height": 340
        }
      },
      "source": [
        "! apt-get install -y axel"
      ],
      "execution_count": 19,
      "outputs": [
        {
          "output_type": "stream",
          "text": [
            "Reading package lists... Done\n",
            "Building dependency tree       \n",
            "Reading state information... Done\n",
            "The following package was automatically installed and is no longer required:\n",
            "  libnvidia-common-410\n",
            "Use 'apt autoremove' to remove it.\n",
            "The following NEW packages will be installed:\n",
            "  axel\n",
            "0 upgraded, 1 newly installed, 0 to remove and 59 not upgraded.\n",
            "Need to get 56.1 kB of archives.\n",
            "After this operation, 181 kB of additional disk space will be used.\n",
            "Get:1 http://archive.ubuntu.com/ubuntu bionic/universe amd64 axel amd64 2.16.1-1build1 [56.1 kB]\n",
            "Fetched 56.1 kB in 0s (655 kB/s)\n",
            "Selecting previously unselected package axel.\n",
            "(Reading database ... 140904 files and directories currently installed.)\n",
            "Preparing to unpack .../axel_2.16.1-1build1_amd64.deb ...\n",
            "Unpacking axel (2.16.1-1build1) ...\n",
            "Setting up axel (2.16.1-1build1) ...\n",
            "Processing triggers for man-db (2.8.3-2ubuntu0.1) ...\n"
          ],
          "name": "stdout"
        }
      ]
    },
    {
      "cell_type": "code",
      "metadata": {
        "id": "TW0AxIjyxRQI",
        "colab_type": "code",
        "outputId": "2ae5bd51-e88c-4d0c-e1dd-d291b23b97f4",
        "colab": {
          "base_uri": "https://localhost:8080/",
          "height": 88
        }
      },
      "source": [
        "!pip install scikit-umfpack"
      ],
      "execution_count": 20,
      "outputs": [
        {
          "output_type": "stream",
          "text": [
            "Requirement already satisfied: scikit-umfpack in /usr/local/lib/python2.7/dist-packages (0.3.2)\n",
            "Requirement already satisfied: numpy>=1.15.3 in /usr/local/lib/python2.7/dist-packages (from scikit-umfpack) (1.16.3)\n",
            "Requirement already satisfied: scipy>=1.0.0rc1 in /usr/local/lib/python2.7/dist-packages (from scikit-umfpack) (1.2.1)\n"
          ],
          "name": "stdout"
        }
      ]
    },
    {
      "cell_type": "markdown",
      "metadata": {
        "id": "HlrnNNQ57BCm",
        "colab_type": "text"
      },
      "source": [
        "## Project Setup"
      ]
    },
    {
      "cell_type": "markdown",
      "metadata": {
        "id": "msOyKUix7DTK",
        "colab_type": "text"
      },
      "source": [
        "### Models\n",
        "Code taken from [this](https://stackoverflow.com/questions/25010369/wget-curl-large-file-from-google-drive/39225039#39225039) stackoverflow post to download models."
      ]
    },
    {
      "cell_type": "code",
      "metadata": {
        "id": "xsaZPG0qxT9s",
        "colab_type": "code",
        "colab": {}
      },
      "source": [
        "import requests\n",
        "\n",
        "def download_file_from_google_drive(id, destination):\n",
        "    URL = \"https://docs.google.com/uc?export=download\"\n",
        "\n",
        "    session = requests.Session()\n",
        "\n",
        "    response = session.get(URL, params = { 'id' : id }, stream = True)\n",
        "    token = get_confirm_token(response)\n",
        "\n",
        "    if token:\n",
        "        params = { 'id' : id, 'confirm' : token }\n",
        "        response = session.get(URL, params = params, stream = True)\n",
        "\n",
        "    save_response_content(response, destination)    \n",
        "\n",
        "def get_confirm_token(response):\n",
        "    for key, value in response.cookies.items():\n",
        "        if key.startswith('download_warning'):\n",
        "            return value\n",
        "\n",
        "    return None\n",
        "\n",
        "def save_response_content(response, destination):\n",
        "    CHUNK_SIZE = 32768\n",
        "\n",
        "    with open(destination, \"wb\") as f:\n",
        "        for chunk in response.iter_content(CHUNK_SIZE):\n",
        "            if chunk: # filter out keep-alive new chunks\n",
        "                f.write(chunk)"
      ],
      "execution_count": 0,
      "outputs": []
    },
    {
      "cell_type": "code",
      "metadata": {
        "id": "ZmN6JCAExV55",
        "colab_type": "code",
        "colab": {}
      },
      "source": [
        "file_id = '1ENgQm9TgabE1R99zhNf5q6meBvX6WFuq'\n",
        "destination = './data.zip'\n",
        "download_file_from_google_drive(file_id, destination)"
      ],
      "execution_count": 0,
      "outputs": []
    },
    {
      "cell_type": "markdown",
      "metadata": {
        "id": "KATbJpqO7V5R",
        "colab_type": "text"
      },
      "source": [
        "### Code"
      ]
    },
    {
      "cell_type": "code",
      "metadata": {
        "id": "l9SNzd59xYGk",
        "colab_type": "code",
        "outputId": "9fab4585-201e-4d95-e7cb-fd8cb9316597",
        "colab": {
          "base_uri": "https://localhost:8080/",
          "height": 102
        }
      },
      "source": [
        "! git clone https://github.com/NVIDIA/FastPhotoStyle"
      ],
      "execution_count": 23,
      "outputs": [
        {
          "output_type": "stream",
          "text": [
            "Cloning into 'FastPhotoStyle'...\n",
            "remote: Enumerating objects: 337, done.\u001b[K\n",
            "remote: Total 337 (delta 0), reused 0 (delta 0), pack-reused 337\u001b[K\n",
            "Receiving objects: 100% (337/337), 50.73 MiB | 26.79 MiB/s, done.\n",
            "Resolving deltas: 100% (193/193), done.\n"
          ],
          "name": "stdout"
        }
      ]
    },
    {
      "cell_type": "code",
      "metadata": {
        "id": "bEjVmJaXxZ47",
        "colab_type": "code",
        "outputId": "0c53112b-66d3-4419-a8ff-3bd96e2ca43b",
        "colab": {
          "base_uri": "https://localhost:8080/",
          "height": 204
        }
      },
      "source": [
        "! unzip data.zip -d FastPhotoStyle"
      ],
      "execution_count": 24,
      "outputs": [
        {
          "output_type": "stream",
          "text": [
            "Archive:  data.zip\n",
            "  inflating: FastPhotoStyle/models/feature_invertor_conv1_1_mask.t7  \n",
            "  inflating: FastPhotoStyle/models/feature_invertor_conv2_1_mask.t7  \n",
            "  inflating: FastPhotoStyle/models/feature_invertor_conv3_1_mask.t7  \n",
            "  inflating: FastPhotoStyle/models/feature_invertor_conv4_1_mask.t7  \n",
            "  inflating: FastPhotoStyle/models/feature_invertor_conv5_1_mask.t7  \n",
            "  inflating: FastPhotoStyle/models/vgg_normalised_conv1_1_mask.t7  \n",
            "  inflating: FastPhotoStyle/models/vgg_normalised_conv2_1_mask.t7  \n",
            "  inflating: FastPhotoStyle/models/vgg_normalised_conv3_1_mask.t7  \n",
            "  inflating: FastPhotoStyle/models/vgg_normalised_conv4_1_mask.t7  \n",
            "  inflating: FastPhotoStyle/models/vgg_normalised_conv5_1_mask.t7  \n"
          ],
          "name": "stdout"
        }
      ]
    },
    {
      "cell_type": "markdown",
      "metadata": {
        "id": "evQRWGhG7b-k",
        "colab_type": "text"
      },
      "source": [
        "## Test"
      ]
    },
    {
      "cell_type": "markdown",
      "metadata": {
        "id": "-g5RHhPE7mX3",
        "colab_type": "text"
      },
      "source": [
        "### Experiment 1"
      ]
    },
    {
      "cell_type": "code",
      "metadata": {
        "id": "iI3tjIII7sP-",
        "colab_type": "code",
        "colab": {}
      },
      "source": [
        "! mkdir -p FastPhotoStyle/images && rm -fr FastPhotoStyle/images/* && mkdir -p FastPhotoStyle/results && rm -fr FastPhotoStyle/results/*"
      ],
      "execution_count": 0,
      "outputs": []
    },
    {
      "cell_type": "code",
      "metadata": {
        "id": "ORPEDeQx7sy3",
        "colab_type": "code",
        "colab": {
          "base_uri": "https://localhost:8080/",
          "height": 1006
        },
        "outputId": "46d88465-86d2-4d67-d645-abf1eedfe71a"
      },
      "source": [
        "! axel -n 1 http://freebigpictures.com/wp-content/uploads/shady-forest.jpg --output=FastPhotoStyle/images/content1.png  \n",
        "! axel -n 1 https://vignette.wikia.nocookie.net/strangerthings8338/images/e/e0/Wiki-background.jpeg/revision/latest?cb=20170522192233 --output=FastPhotoStyle/images/style1.png"
      ],
      "execution_count": 26,
      "outputs": [
        {
          "output_type": "stream",
          "text": [
            "Initializing download: http://freebigpictures.com/wp-content/uploads/shady-forest.jpg\n",
            "File size: 1895125 bytes\n",
            "Opening output file FastPhotoStyle/images/content1.png\n",
            "Starting download\n",
            "\n",
            "[  0%]  .......... .......... .......... .......... ..........  [ 115.7KB/s]\n",
            "[  2%]  .......... .......... .......... .......... ..........  [ 184.6KB/s]\n",
            "[  5%]  .......... .......... .......... .......... ..........  [ 273.5KB/s]\n",
            "[  8%]  .......... .......... .......... .......... ..........  [ 362.4KB/s]\n",
            "[ 10%]  .......... .......... .......... .......... ..........  [ 374.2KB/s]\n",
            "[ 13%]  .......... .......... .......... .......... ..........  [ 448.4KB/s]\n",
            "[ 16%]  .......... .......... .......... .......... ..........  [ 522.5KB/s]\n",
            "[ 18%]  .......... .......... .......... .......... ..........  [ 511.8KB/s]\n",
            "[ 21%]  .......... .......... .......... .......... ..........  [ 575.4KB/s]\n",
            "[ 24%]  .......... .......... .......... .......... ..........  [ 639.1KB/s]\n",
            "[ 27%]  .......... .......... .......... .......... ..........  [ 702.7KB/s]\n",
            "[ 29%]  .......... .......... .......... .......... ..........  [ 766.3KB/s]\n",
            "[ 32%]  .......... .......... .......... .......... ..........  [ 729.0KB/s]\n",
            "[ 35%]  .......... .......... .......... .......... ..........  [ 784.6KB/s]\n",
            "[ 37%]  .......... .......... .......... .......... ..........  [ 840.3KB/s]\n",
            "[ 40%]  .......... .......... .......... .......... ..........  [ 896.0KB/s]\n",
            "[ 43%]  .......... .......... .......... .......... ..........  [ 951.7KB/s]\n",
            "[ 45%]  .......... .......... .......... .......... ..........  [1007.3KB/s]\n",
            "[ 48%]  .......... .......... .......... .......... ..........  [1062.9KB/s]\n",
            "[ 51%]  .......... .......... .......... .......... ..........  [1118.5KB/s]\n",
            "[ 54%]  .......... .......... .......... .......... ..........  [1046.5KB/s]\n",
            "[ 56%]  .......... .......... .......... .......... ..........  [1095.9KB/s]\n",
            "[ 59%]  .......... .......... .......... .......... ..........  [1145.4KB/s]\n",
            "[ 62%]  .......... .......... .......... .......... ..........  [1194.9KB/s]\n",
            "[ 64%]  .......... .......... .......... .......... ..........  [1244.4KB/s]\n",
            "[ 67%]  .......... .......... .......... .......... ..........  [1293.8KB/s]\n",
            "[ 70%]  .......... .......... .......... .......... ..........  [1343.2KB/s]\n",
            "[ 72%]  .......... .......... .......... .......... ..........  [1392.7KB/s]\n",
            "[ 75%]  .......... .......... .......... .......... ..........  [1442.0KB/s]\n",
            "[ 78%]  .......... .......... .......... .......... ..........  [1491.5KB/s]\n",
            "[ 81%]  .......... .......... .......... .......... ..........  [1540.8KB/s]\n",
            "[ 83%]  .......... .......... .......... .......... ..........  [1436.1KB/s]\n",
            "[ 86%]  .......... .......... .......... .......... ..........  [1480.6KB/s]\n",
            "[ 89%]  .......... .......... .......... .......... ..........  [1525.2KB/s]\n",
            "[ 91%]  .......... .......... .......... .......... ..........  [1569.7KB/s]\n",
            "[ 94%]  .......... .......... .......... .......... ..........  [1614.3KB/s]\n",
            "[ 97%]  .......... .......... .......... .......... ..........\n",
            "\n",
            "Downloaded 1.8 Megabyte in 1 second. (1656.66 KB/s)\n",
            "Initializing download: https://vignette.wikia.nocookie.net/strangerthings8338/images/e/e0/Wiki-background.jpeg/revision/latest?cb=20170522192233\n",
            "File size: 300993 bytes\n",
            "Opening output file FastPhotoStyle/images/style1.png\n",
            "Starting download\n",
            "\n",
            "[  0%]  .......... .......... .......... .......... ..........  [ 511.5KB/s]\n",
            "[ 17%]  .......... .......... .......... .......... ..........  [1037.1KB/s]\n",
            "[ 34%]  .......... .......... .......... .......... ..........  [1511.3KB/s]\n",
            "[ 51%]  .......... .......... .......... .......... ..........  [1870.6KB/s]\n",
            "[ 68%]  .......... .......... .......... .......... ..........  [2233.3KB/s]\n",
            "[ 85%]  .......... .......... .......... .......... ...\n",
            "\n",
            "Downloaded 293.9 Kilobyte in 0 seconds. (2522.56 KB/s)\n"
          ],
          "name": "stdout"
        }
      ]
    },
    {
      "cell_type": "code",
      "metadata": {
        "id": "0KTyEfI67z3X",
        "colab_type": "code",
        "colab": {
          "base_uri": "https://localhost:8080/",
          "height": 34
        },
        "outputId": "13ac425a-25e7-42ca-bb88-0d611f311a85"
      },
      "source": [
        "! cd FastPhotoStyle/images && convert -resize 25% content1.png content1.png && convert -resize 50% style1.png style1.png"
      ],
      "execution_count": 44,
      "outputs": [
        {
          "output_type": "stream",
          "text": [
            "/bin/bash: convert: command not found\n"
          ],
          "name": "stdout"
        }
      ]
    },
    {
      "cell_type": "code",
      "metadata": {
        "id": "SKP-EHR1Zmzu",
        "colab_type": "code",
        "colab": {
          "base_uri": "https://localhost:8080/",
          "height": 173
        },
        "outputId": "7f60812b-2c0b-4b10-c964-1119971ecb39"
      },
      "source": [
        "!pip install convert"
      ],
      "execution_count": 43,
      "outputs": [
        {
          "output_type": "stream",
          "text": [
            "Collecting convert\n",
            "  Downloading https://files.pythonhosted.org/packages/ce/9f/9e92423717513600e6c797a9e0d4a4582e9bff0b3a9615a2d4099435438e/convert-0.1.2.tar.gz\n",
            "Building wheels for collected packages: convert\n",
            "  Building wheel for convert (setup.py) ... \u001b[?25l\u001b[?25hdone\n",
            "  Stored in directory: /root/.cache/pip/wheels/ab/75/1b/0b09797001c280131e5e4ea8e51913298f0f4e627f6ed9dfc4\n",
            "Successfully built convert\n",
            "Installing collected packages: convert\n",
            "Successfully installed convert-0.1.2\n"
          ],
          "name": "stdout"
        }
      ]
    },
    {
      "cell_type": "code",
      "metadata": {
        "id": "Ai2Jn0RSxeQZ",
        "colab_type": "code",
        "outputId": "0b3630e0-90fb-46db-99b9-284f46bc77a7",
        "colab": {
          "base_uri": "https://localhost:8080/",
          "height": 153
        }
      },
      "source": [
        "! cd FastPhotoStyle && python demo.py\n"
      ],
      "execution_count": 45,
      "outputs": [
        {
          "output_type": "stream",
          "text": [
            "Traceback (most recent call last):\n",
            "  File \"demo.py\", line 9, in <module>\n",
            "    import process_stylization\n",
            "  File \"/content/FastPhotoStyle/process_stylization.py\", line 14, in <module>\n",
            "    from smooth_filter import smooth_filter\n",
            "  File \"/content/FastPhotoStyle/smooth_filter.py\", line 328, in <module>\n",
            "    from pynvrtc.compiler import Program\n",
            "ImportError: No module named pynvrtc.compiler\n"
          ],
          "name": "stdout"
        }
      ]
    },
    {
      "cell_type": "code",
      "metadata": {
        "id": "iPo-aems5UmW",
        "colab_type": "code",
        "outputId": "25238eaa-8327-4f84-d265-8feaac68778c",
        "colab": {
          "base_uri": "https://localhost:8080/",
          "height": 34
        }
      },
      "source": [
        "from IPython.display import Image\n",
        "Image(\"FastPhotoStyle/results/example1.png\")\n"
      ],
      "execution_count": 46,
      "outputs": [
        {
          "output_type": "execute_result",
          "data": {
            "image/png": "[encoded data removed]",
            "text/plain": [
              "<IPython.core.display.Image object>"
            ]
          },
          "metadata": {
            "tags": []
          },
          "execution_count": 46
        }
      ]
    }
  ]
}